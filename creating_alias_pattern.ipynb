{
 "cells": [
  {
   "cell_type": "code",
   "execution_count": null,
   "id": "083d4528",
   "metadata": {},
   "outputs": [],
   "source": [
    "%matplotlib inline\n",
    "import numpy as np\n",
    "import matplotlib.pyplot as plt\n",
    "from astropy import constants as const\n",
    "import astropy.units as u\n",
    "from astropy.units import cds\n",
    "cds.enable()\n",
    "import pandas as pd\n",
    "import lightkurve as lk\n",
    "import random"
   ]
  },
  {
   "cell_type": "code",
   "execution_count": null,
   "id": "350e8db4",
   "metadata": {},
   "outputs": [],
   "source": [
    "# Determine size of day/night portions\n",
    "\n",
    "A_data = 9*u.h #hours\n",
    "GapA = 15*u.h #hours\n",
    "\n",
    "A_secs = A_data.to(u.s)\n",
    "GapA_secs = GapA.to(u.s)\n",
    "\n",
    "print(A_secs, GapA_secs)"
   ]
  },
  {
   "cell_type": "code",
   "execution_count": null,
   "id": "787f18b8",
   "metadata": {},
   "outputs": [],
   "source": [
    "# Make sine wave\n",
    "\n",
    "time = np.arange(0, 205200, 30)\n",
    "\n",
    "def sine(x, amp = 0.0001, period = 500, phase = 0):\n",
    "    \n",
    "    return amp*np.sin(x*((2*np.pi)/period)+phase)\n",
    "\n",
    "flux = sine(time)"
   ]
  },
  {
   "cell_type": "code",
   "execution_count": null,
   "id": "62f5050d",
   "metadata": {},
   "outputs": [],
   "source": [
    "# Make the gap sine wave\n",
    "\n",
    "time_gap = np.arange(0, 205200, 30)\n",
    "\n",
    "def sine(x, amp = 0.0001, period = 500, phase = 0):\n",
    "    \n",
    "    return amp*np.sin(x*((2*np.pi)/period)+phase)\n",
    "\n",
    "flux_gap = sine(time)"
   ]
  },
  {
   "cell_type": "code",
   "execution_count": null,
   "id": "d8ca9cc8",
   "metadata": {},
   "outputs": [],
   "source": [
    "# Create the gaps in the gap sine wave\n",
    "\n",
    "for i in range(0, len(time_gap)):\n",
    "    if 32400 < time_gap[i] <= 86400:\n",
    "        flux_gap[i] = np.nan\n",
    "    elif 118800 < time_gap[i] <= 172800:\n",
    "        flux_gap[i] = np.nan"
   ]
  },
  {
   "cell_type": "code",
   "execution_count": null,
   "id": "42c67222",
   "metadata": {},
   "outputs": [],
   "source": [
    "lc = lk.LightCurve(time = time/86400, flux = flux + 1).normalize(unit = 'ppm')\n",
    "\n",
    "pg = lc.to_periodogram(freq_unit=u.microHertz)\n",
    "\n",
    "lc_gap = lk.LightCurve(time = time_gap/86400, flux = flux_gap + 1).normalize(unit = 'ppm')\n",
    "\n",
    "pg_gap = lc_gap.to_periodogram(freq_unit=u.microHertz)"
   ]
  },
  {
   "cell_type": "code",
   "execution_count": null,
   "id": "88ba4bc3",
   "metadata": {},
   "outputs": [],
   "source": [
    "fig, ax = plt.subplots(1, 2, sharex = True, sharey = True, figsize = (8, 4))\n",
    "\n",
    "plt.rcParams.update({'font.size': 12})\n",
    "\n",
    "ax[0].plot(pg_gap.frequency, pg_gap.power, color = 'palevioletred')\n",
    "ax[1].plot(pg.frequency, pg.power, color = 'palevioletred')\n",
    "\n",
    "ax[0].set_xlim(1801, 2199)\n",
    "ax[1].set_xlim(1801, 2199)\n",
    "\n",
    "ax[0].set_ylim(0, 105)\n",
    "\n",
    "ax[0].set_xlabel(r'Frequency ($\\mu$Hz)')\n",
    "ax[1].set_xlabel(r'Frequency ($\\mu$Hz)')\n",
    "\n",
    "ax[0].set_ylabel(r'Amplitude (mma)')\n",
    "\n",
    "fig.tight_layout()\n",
    "plt.savefig('aliaspattern.png', dpi = 250)\n",
    "\n",
    "plt.show()"
   ]
  },
  {
   "cell_type": "code",
   "execution_count": null,
   "id": "430f1025",
   "metadata": {},
   "outputs": [],
   "source": []
  }
 ],
 "metadata": {
  "kernelspec": {
   "display_name": "base",
   "language": "python",
   "name": "python3"
  },
  "language_info": {
   "codemirror_mode": {
    "name": "ipython",
    "version": 3
   },
   "file_extension": ".py",
   "mimetype": "text/x-python",
   "name": "python",
   "nbconvert_exporter": "python",
   "pygments_lexer": "ipython3",
   "version": "3.11.7"
  }
 },
 "nbformat": 4,
 "nbformat_minor": 5
}
